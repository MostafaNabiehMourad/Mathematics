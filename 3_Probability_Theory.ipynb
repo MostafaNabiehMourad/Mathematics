{
  "nbformat": 4,
  "nbformat_minor": 0,
  "metadata": {
    "colab": {
      "name": "3- Probability Theory.ipynb",
      "provenance": [],
      "collapsed_sections": []
    },
    "kernelspec": {
      "name": "python3",
      "display_name": "Python 3"
    },
    "language_info": {
      "name": "python"
    }
  },
  "cells": [
    {
      "cell_type": "markdown",
      "source": [
        "Probability theory is a branch of mathematics studying occurrences of random phenomena. A random phenomenon is relative to a deterministic phenomenon. A phenomenon that inevitably occurs under certain conditions is called a deterministic phenomenon."
      ],
      "metadata": {
        "id": "OF9RbWAWayJD"
      }
    },
    {
      "cell_type": "code",
      "execution_count": null,
      "metadata": {
        "id": "EFaW6HojDv-Z"
      },
      "outputs": [],
      "source": [
        "import numpy as np \n",
        "import scipy as sp "
      ]
    },
    {
      "cell_type": "markdown",
      "source": [
        "3.1 Implementing the Mean"
      ],
      "metadata": {
        "id": "2sPmq3YEENn_"
      }
    },
    {
      "cell_type": "code",
      "source": [
        "ll = [[1,2,3,4,5,6],[3,4,5,6,7,8]]"
      ],
      "metadata": {
        "id": "8bZ9yHVTD1Sz"
      },
      "execution_count": null,
      "outputs": []
    },
    {
      "cell_type": "code",
      "source": [
        "np.mean(ll)"
      ],
      "metadata": {
        "colab": {
          "base_uri": "https://localhost:8080/"
        },
        "id": "rHKiY6L_EX4p",
        "outputId": "5154365f-1c68-4c10-f10d-382947b5e967"
      },
      "execution_count": null,
      "outputs": [
        {
          "output_type": "execute_result",
          "data": {
            "text/plain": [
              "4.5"
            ]
          },
          "metadata": {},
          "execution_count": 3
        }
      ]
    },
    {
      "cell_type": "code",
      "source": [
        "np.mean(ll,0) # Compute the mean by column. 0 indicates a column vector."
      ],
      "metadata": {
        "colab": {
          "base_uri": "https://localhost:8080/"
        },
        "id": "ZmVE3cHNEZlH",
        "outputId": "da20c491-accf-4f80-903e-fa4a81ce603d"
      },
      "execution_count": null,
      "outputs": [
        {
          "output_type": "execute_result",
          "data": {
            "text/plain": [
              "array([2., 3., 4., 5., 6., 7.])"
            ]
          },
          "metadata": {},
          "execution_count": 5
        }
      ]
    },
    {
      "cell_type": "code",
      "source": [
        "np.mean(ll,1) # # Compute the mean by column. 1 indicates a row vector."
      ],
      "metadata": {
        "colab": {
          "base_uri": "https://localhost:8080/"
        },
        "id": "62exYDe9EgZs",
        "outputId": "6854a142-e0cd-4a3e-a938-2f0f85d25860"
      },
      "execution_count": null,
      "outputs": [
        {
          "output_type": "execute_result",
          "data": {
            "text/plain": [
              "array([3.5, 5.5])"
            ]
          },
          "metadata": {},
          "execution_count": 6
        }
      ]
    },
    {
      "cell_type": "markdown",
      "source": [
        "3.2 Implementing the Variance"
      ],
      "metadata": {
        "id": "hLgj7b1fEvmr"
      }
    },
    {
      "cell_type": "code",
      "source": [
        "b=[1,3,5,6]\n",
        "ll=[[1,2,3,4,5,6],[3,4,5,6,7,8]]"
      ],
      "metadata": {
        "id": "ue0Jw7vAEs6_"
      },
      "execution_count": null,
      "outputs": []
    },
    {
      "cell_type": "code",
      "source": [
        "np.var(b)"
      ],
      "metadata": {
        "colab": {
          "base_uri": "https://localhost:8080/"
        },
        "id": "jyjvtverE0rn",
        "outputId": "31458eb0-37c2-4943-e8df-6d7f2d80d407"
      },
      "execution_count": null,
      "outputs": [
        {
          "output_type": "execute_result",
          "data": {
            "text/plain": [
              "3.6875"
            ]
          },
          "metadata": {},
          "execution_count": 11
        }
      ]
    },
    {
      "cell_type": "code",
      "source": [
        "np.var(ll,1)# Compute the Variance by column. 1 indicates a row vector."
      ],
      "metadata": {
        "colab": {
          "base_uri": "https://localhost:8080/"
        },
        "id": "4qmt_6QbE_mu",
        "outputId": "e03e378d-e0ee-4426-f885-7980c38473ba"
      },
      "execution_count": null,
      "outputs": [
        {
          "output_type": "execute_result",
          "data": {
            "text/plain": [
              "array([2.91666667, 2.91666667])"
            ]
          },
          "metadata": {},
          "execution_count": 13
        }
      ]
    },
    {
      "cell_type": "markdown",
      "source": [
        "3.3 Implementing the Standard Deviation"
      ],
      "metadata": {
        "id": "Ay1K51CmGm-8"
      }
    },
    {
      "cell_type": "code",
      "source": [
        "ll=[[1,2,3,4,5,6],[3,4,5,6,7,8]]"
      ],
      "metadata": {
        "id": "pCp7xQhdFChm"
      },
      "execution_count": null,
      "outputs": []
    },
    {
      "cell_type": "code",
      "source": [
        "np.std(ll)"
      ],
      "metadata": {
        "colab": {
          "base_uri": "https://localhost:8080/"
        },
        "id": "UPiF_0vxGuPX",
        "outputId": "873e0753-3e7b-47fa-aca4-46f7841dff7f"
      },
      "execution_count": null,
      "outputs": [
        {
          "output_type": "execute_result",
          "data": {
            "text/plain": [
              "1.9790570145063195"
            ]
          },
          "metadata": {},
          "execution_count": 15
        }
      ]
    },
    {
      "cell_type": "markdown",
      "source": [
        "3.4 Implementing the Covariance"
      ],
      "metadata": {
        "id": "rxVrCTgGG5HK"
      }
    },
    {
      "cell_type": "code",
      "source": [
        "b=[1,3,5,6]\n",
        "np.cov(b)"
      ],
      "metadata": {
        "colab": {
          "base_uri": "https://localhost:8080/"
        },
        "id": "mr5hwiiEG7NH",
        "outputId": "40369dce-ffff-4714-b547-2bb14cc132e4"
      },
      "execution_count": null,
      "outputs": [
        {
          "output_type": "execute_result",
          "data": {
            "text/plain": [
              "array(4.91666667)"
            ]
          },
          "metadata": {},
          "execution_count": 18
        }
      ]
    },
    {
      "cell_type": "markdown",
      "source": [
        "3.5 Implementing the Correlation Coefficient"
      ],
      "metadata": {
        "id": "CGgQA-MbHO72"
      }
    },
    {
      "cell_type": "code",
      "source": [
        "vc=[1,2,39,0,8]\n",
        "vb=[1,2,38,0,8]"
      ],
      "metadata": {
        "id": "c0XQfwptHRXK"
      },
      "execution_count": null,
      "outputs": []
    },
    {
      "cell_type": "code",
      "source": [
        "np.corrcoef(vc,vb)"
      ],
      "metadata": {
        "colab": {
          "base_uri": "https://localhost:8080/"
        },
        "id": "JKYUguRfHMP7",
        "outputId": "75e9859b-8214-4ee7-a67e-41d0bda55ab8"
      },
      "execution_count": null,
      "outputs": [
        {
          "output_type": "execute_result",
          "data": {
            "text/plain": [
              "array([[1.        , 0.99998623],\n",
              "       [0.99998623, 1.        ]])"
            ]
          },
          "metadata": {},
          "execution_count": 20
        }
      ]
    },
    {
      "cell_type": "markdown",
      "source": [
        "3.6 Implementing the Binomial Distribution"
      ],
      "metadata": {
        "id": "-2w--MsYvYmT"
      }
    },
    {
      "cell_type": "markdown",
      "source": [
        "X is a binomially distributed random variable, n being the total number of experiments and p the probability of each experiment yielding a successful result."
      ],
      "metadata": {
        "id": "ovwMOp7EatYZ"
      }
    },
    {
      "cell_type": "code",
      "source": [
        "from scipy.stats import binom, norm, beta, expon\n",
        "import numpy as np\n",
        "import matplotlib.pyplot as plt"
      ],
      "metadata": {
        "id": "PdWSM478vZxt"
      },
      "execution_count": null,
      "outputs": []
    },
    {
      "cell_type": "code",
      "source": [
        "# n and p indicate the number and probability of successes in the binomial distribution, and size indicates the number of sampling.\n",
        "binom_sim = binom.rvs(n=10, p=0.3, size=10000)"
      ],
      "metadata": {
        "id": "hLEBs0u3yCPr"
      },
      "execution_count": null,
      "outputs": []
    },
    {
      "cell_type": "code",
      "source": [
        "print('Data:',binom_sim)\n",
        "print('Mean: %g' % np.mean(binom_sim))\n",
        "print('SD: %g' % np.std(binom_sim, ddof=1))\n"
      ],
      "metadata": {
        "colab": {
          "base_uri": "https://localhost:8080/"
        },
        "id": "xDFHZD71yGyK",
        "outputId": "9551add7-9f2b-4d93-c55d-3eb078dcdc3f"
      },
      "execution_count": null,
      "outputs": [
        {
          "output_type": "stream",
          "name": "stdout",
          "text": [
            "Data: [3 3 4 ... 2 4 3]\n",
            "Mean: 3.0028\n",
            "SD: 1.45079\n"
          ]
        }
      ]
    },
    {
      "cell_type": "code",
      "source": [
        "# Generate a histogram. x specifies the data distributed in each bin, corresponding to the x axis. binx indicates the number of bar charts in total. normed indicates the normed value density, that is, the proportion of each bar chart. The default value is 1.\n",
        "plt.hist(binom_sim, bins=10, density=True)\n",
        "plt.xlabel(('x'))\n",
        "plt.ylabel('density')\n",
        "plt.show()"
      ],
      "metadata": {
        "colab": {
          "base_uri": "https://localhost:8080/",
          "height": 280
        },
        "id": "YOixWRciyI75",
        "outputId": "b5925d3e-7208-49ca-ee1d-14f7ee23ec91"
      },
      "execution_count": null,
      "outputs": [
        {
          "output_type": "display_data",
          "data": {
            "image/png": "[encoded data removed]",
            "text/plain": [
              "<Figure size 432x288 with 1 Axes>"
            ]
          },
          "metadata": {
            "needs_background": "light"
          }
        }
      ]
    },
    {
      "cell_type": "markdown",
      "source": [
        "3.7 Implementing the Poisson Distribution"
      ],
      "metadata": {
        "id": "YL5OYfJ8yhyr"
      }
    },
    {
      "cell_type": "markdown",
      "source": [
        "A random variable X that complies with the Poisson distribution indicates the number of events occurring in a fixed interval of time if these events occur with a known constant rate λ. λ indicates the rate of occurrence of an event, and it is both the mean and variance of the random variable X."
      ],
      "metadata": {
        "id": "iMkJg6TOaq56"
      }
    },
    {
      "cell_type": "code",
      "source": [
        "import numpy as np\n",
        "import matplotlib.pyplot as plt\n",
        "\n",
        "# Generate 10,000 numbers that comply with the Poisson distribution of lambda=2. \n",
        "X= np.random.poisson(lam=2, size=10000)  \n",
        "\n",
        "a = plt.hist(X, bins=15, density=True, range=[0, 15])\n",
        "# Generate a grid.\n",
        "plt.grid()\n",
        "plt.show()\n"
      ],
      "metadata": {
        "colab": {
          "base_uri": "https://localhost:8080/",
          "height": 265
        },
        "id": "MKZkhCZGyPvR",
        "outputId": "009c8d72-bfb8-420e-f35a-08488a7eb04d"
      },
      "execution_count": null,
      "outputs": [
        {
          "output_type": "display_data",
          "data": {
            "image/png": "[encoded data removed]",
            "text/plain": [
              "<Figure size 432x288 with 1 Axes>"
            ]
          },
          "metadata": {
            "needs_background": "light"
          }
        }
      ]
    },
    {
      "cell_type": "markdown",
      "source": [
        "3.8 Implementing the Normal Distribution"
      ],
      "metadata": {
        "id": "DuYTi3cQ0OjT"
      }
    },
    {
      "cell_type": "markdown",
      "source": [
        "The normal distribution is a continuous distribution and is used to represent real-valued random variables whose distributions are not known. The normal distribution is expressed by two parameters: μ, which indicates the mean of the distribution, and σ, which indicates the standard deviation."
      ],
      "metadata": {
        "id": "hb3kCx1eaokn"
      }
    },
    {
      "cell_type": "code",
      "source": [
        "from scipy.stats import norm\n",
        "import numpy as np\n",
        "import matplotlib.pyplot as plt\n",
        "\n",
        "mu = 0\n",
        "sigma = 1\n",
        "# Distribute the sampling points.\n",
        "x = np.arange(-5, 5, 0.1)\n",
        "# Generate a normal distribution that complies with mu and sigma.\n",
        "y = norm.pdf(x, mu, sigma)\n",
        "plt.plot(x, y)\n",
        "plt.xlabel('x')\n",
        "plt.ylabel('density')\n",
        "plt.show()\n"
      ],
      "metadata": {
        "colab": {
          "base_uri": "https://localhost:8080/",
          "height": 279
        },
        "id": "ruYgSi9cylVA",
        "outputId": "e817a7e8-36ef-488e-cfdd-6769b83764de"
      },
      "execution_count": null,
      "outputs": [
        {
          "output_type": "display_data",
          "data": {
            "image/png": "[encoded data removed]",
            "text/plain": [
              "<Figure size 432x288 with 1 Axes>"
            ]
          },
          "metadata": {
            "needs_background": "light"
          }
        }
      ]
    },
    {
      "cell_type": "markdown",
      "source": [
        "3.9 Implementing the Exponential Distribution "
      ],
      "metadata": {
        "id": "p5XKbctN0joE"
      }
    },
    {
      "cell_type": "markdown",
      "source": [
        "The exponential distribution is a continuous probability distribution, and is used to indicate a time interval at which an independent random event occurs. For example, the time between arrivals of passengers in the airport and the time it takes before the customer service center receives the next phone call."
      ],
      "metadata": {
        "id": "e3zGNYqramI5"
      }
    },
    {
      "cell_type": "code",
      "source": [
        "from scipy.stats import expon\n",
        "import numpy as np\n",
        "import matplotlib.pyplot as plt\n",
        "\n",
        "lam = 0.5\n",
        "# Distribute the sampling points.\n",
        "x = np.arange(0, 15, 0.1)\n",
        "# Generate an exponential distribution with lambda being 0.5.\n",
        "y = expon.pdf(x, lam)\n",
        "plt.plot(x, y)\n",
        "plt.title('Exponential: lam=%.2f' % lam)\n",
        "plt.xlabel('x')\n",
        "plt.ylabel('density')\n",
        "plt.show()"
      ],
      "metadata": {
        "colab": {
          "base_uri": "https://localhost:8080/",
          "height": 295
        },
        "id": "zc_9jI9r0etu",
        "outputId": "cf6e3300-2e6e-4e53-f30f-28d0a98cf2af"
      },
      "execution_count": null,
      "outputs": [
        {
          "output_type": "display_data",
          "data": {
            "image/png": "[encoded data removed]",
            "text/plain": [
              "<Figure size 432x288 with 1 Axes>"
            ]
          },
          "metadata": {
            "needs_background": "light"
          }
        }
      ]
    },
    {
      "cell_type": "markdown",
      "source": [
        "#### 3.10 Verifying the Central Limit Theorem"
      ],
      "metadata": {
        "id": "QipTLYhX1JF7"
      }
    },
    {
      "cell_type": "markdown",
      "source": [
        "The central limit theorem proves that the limit distribution of the sum of a number of independent random variables is a normal distribution. The central limit theorem works even if the original variables themselves are not normally distributed as long as the number of samples is sufficient. This task is used to verify the central limit theorem.\n",
        "Generate the data. Assume that a person throws a dice, and the probability of this person getting side one to six is the same, namely, 1/6. If this person throws the dice for 10,000 times.\n"
      ],
      "metadata": {
        "id": "BmhG05Zo1zdm"
      }
    },
    {
      "cell_type": "code",
      "source": [
        "import numpy as np\n",
        "import matplotlib.pyplot as plt\n",
        "# Randomly generate 10,000 numbers ranging from 1 to 6.\n",
        "ramdon_data = np.random.randint(1,7,10000)\n",
        "print(ramdon_data.mean())\n",
        "print(ramdon_data.std())"
      ],
      "metadata": {
        "colab": {
          "base_uri": "https://localhost:8080/"
        },
        "id": "tY4GnSUB1Cxd",
        "outputId": "993f2f82-2a6a-4672-94ed-bc06feae5342"
      },
      "execution_count": null,
      "outputs": [
        {
          "output_type": "stream",
          "name": "stdout",
          "text": [
            "3.4993\n",
            "1.7135925740968885\n"
          ]
        }
      ]
    },
    {
      "cell_type": "code",
      "source": [
        "len(ramdon_data)"
      ],
      "metadata": {
        "colab": {
          "base_uri": "https://localhost:8080/"
        },
        "id": "sq9VSIjy2Bn-",
        "outputId": "d386b4d7-b42f-45fd-99f9-b1720ee9bd50"
      },
      "execution_count": null,
      "outputs": [
        {
          "output_type": "execute_result",
          "data": {
            "text/plain": [
              "10000"
            ]
          },
          "metadata": {},
          "execution_count": 14
        }
      ]
    },
    {
      "cell_type": "code",
      "source": [
        "ramdon_data"
      ],
      "metadata": {
        "colab": {
          "base_uri": "https://localhost:8080/"
        },
        "id": "tsvfIZHJ2Fkt",
        "outputId": "a3a22477-c6a7-4ecc-ce5b-01b395f7934b"
      },
      "execution_count": null,
      "outputs": [
        {
          "output_type": "execute_result",
          "data": {
            "text/plain": [
              "array([5, 3, 4, ..., 3, 4, 2])"
            ]
          },
          "metadata": {},
          "execution_count": 15
        }
      ]
    },
    {
      "cell_type": "code",
      "source": [
        "plt.figure()\n",
        "plt.hist(ramdon_data,bins=6,facecolor='blue')\n",
        "plt.xlabel('x')\n",
        "plt.ylabel('n')\n",
        "plt.show()"
      ],
      "metadata": {
        "colab": {
          "base_uri": "https://localhost:8080/",
          "height": 279
        },
        "id": "mV8ChaGF14tp",
        "outputId": "95ea2c35-243a-4820-b19e-427e9f455178"
      },
      "execution_count": null,
      "outputs": [
        {
          "output_type": "display_data",
          "data": {
            "image/png": "[encoded data removed]",
            "text/plain": [
              "<Figure size 432x288 with 1 Axes>"
            ]
          },
          "metadata": {
            "needs_background": "light"
          }
        }
      ]
    },
    {
      "cell_type": "markdown",
      "source": [
        "Notes: For 10,000 throws, the number of getting side one to six is almost the same."
      ],
      "metadata": {
        "id": "5t7vr-4X2IO4"
      }
    },
    {
      "cell_type": "code",
      "source": [
        "sample1 = []\n",
        "# Randomly select 10 from the 1000 numbers generated before.\n",
        "for i in range(1,10):\n",
        "# int(np.random.random()*len(ramdon_data)) returns a random integer ranging from 0 to 10,000.\n",
        "    sample1.append(ramdon_data[int(np.random.random()*len(ramdon_data))])\n",
        "\n",
        "sample1 = np.array(sample1)\n",
        "print(sample1)\n",
        "print(sample1.mean())\n",
        "print(sample1.std())\n"
      ],
      "metadata": {
        "colab": {
          "base_uri": "https://localhost:8080/"
        },
        "id": "8gHONmpK16Kj",
        "outputId": "f3ddf1ef-6036-481f-93c6-253adefb3351"
      },
      "execution_count": null,
      "outputs": [
        {
          "output_type": "stream",
          "name": "stdout",
          "text": [
            "[6 2 2 5 5 5 1 3 5]\n",
            "3.7777777777777777\n",
            "1.6850834320114556\n"
          ]
        }
      ]
    },
    {
      "cell_type": "markdown",
      "source": [
        " Randomly select 1,000 groups of numbers with 50 numbers each group."
      ],
      "metadata": {
        "id": "dOHkfeZB2Rrh"
      }
    },
    {
      "cell_type": "code",
      "source": [
        "samples = []\n",
        "samples_mean =[]\n",
        "samples_std = []\n",
        "\n",
        "# Randomly select 1,000 groups of numbers from the 10,000 numbers.\n",
        "for i in range(0,1000):\n",
        "  sample = []\n",
        "# Randomly select 50 numbers from each group.\n",
        "  for j in range(0,50):\n",
        "    sample.append(ramdon_data[int(np.random.random() * len(ramdon_data))])\n",
        "# Add each group of numbers to an array and add the arrays to the samples list.\n",
        "    sample_ar = np.array(sample)\n",
        "  samples.append(sample_ar)\n",
        "# Store the means and standard deviations of each array.\n",
        "  samples_mean.append(sample_ar.mean())\n",
        "  samples_std.append(sample_ar.std())\n",
        "# samples_std_ar = np.array(samples_std)\n",
        "# samples_mean_ar = np.array(samples_mean)\n",
        "# print(samples_mean_ar)\n"
      ],
      "metadata": {
        "id": "Y5_87kTY2MUC"
      },
      "execution_count": null,
      "outputs": []
    },
    {
      "cell_type": "code",
      "source": [
        "plt.figure()\n",
        "# Generate a histogram with 10 bars in blue based on the means of the 1,000 numbers.\n",
        "plt.hist(samples_mean,bins=10,facecolor='blue')\n",
        "plt.xlabel('x')\n",
        "plt.ylabel('n')\n",
        "plt.show()\n"
      ],
      "metadata": {
        "colab": {
          "base_uri": "https://localhost:8080/",
          "height": 279
        },
        "id": "rF8mC9DI2amR",
        "outputId": "c99507ca-b2f3-42fd-f2fd-5a4c9f1d3a80"
      },
      "execution_count": null,
      "outputs": [
        {
          "output_type": "display_data",
          "data": {
            "image/png": "[encoded data removed]",
            "text/plain": [
              "<Figure size 432x288 with 1 Axes>"
            ]
          },
          "metadata": {
            "needs_background": "light"
          }
        }
      ]
    },
    {
      "cell_type": "code",
      "source": [
        ""
      ],
      "metadata": {
        "id": "yIdLkxbB2ph1"
      },
      "execution_count": null,
      "outputs": []
    }
  ]
}