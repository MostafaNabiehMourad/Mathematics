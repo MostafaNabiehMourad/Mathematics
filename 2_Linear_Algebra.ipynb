{
  "nbformat": 4,
  "nbformat_minor": 0,
  "metadata": {
    "colab": {
      "name": "2- Linear Algebra.ipynb",
      "provenance": [],
      "collapsed_sections": []
    },
    "kernelspec": {
      "name": "python3",
      "display_name": "Python 3"
    },
    "language_info": {
      "name": "python"
    }
  },
  "cells": [
    {
      "cell_type": "markdown",
      "source": [
        "#### 2.1 Implementing the Linear Algebra"
      ],
      "metadata": {
        "id": "_MNcoMt6UE6n"
      }
    },
    {
      "cell_type": "code",
      "execution_count": 1,
      "metadata": {
        "id": "_6WdC2hKT_t2"
      },
      "outputs": [],
      "source": [
        "import numpy as np"
      ]
    },
    {
      "cell_type": "markdown",
      "source": [
        "#### 2.2 reshape Operation"
      ],
      "metadata": {
        "id": "0s-jfME_UKMg"
      }
    },
    {
      "cell_type": "markdown",
      "source": [
        "The reshape operation is a very common operation in the NumPy operation library, which is used to change the number of dimensions of a tensor and the size of each dimension. For example, a 10x10 picture is directly saved as a sequence including 100 elements, and when the information is read, reshape converts it from 1x100 to 10x10. The following is an example:"
      ],
      "metadata": {
        "id": "rzc7pDaMUOvc"
      }
    },
    {
      "cell_type": "code",
      "source": [
        "x = np.arange(1,21)\n",
        "print(x)"
      ],
      "metadata": {
        "colab": {
          "base_uri": "https://localhost:8080/"
        },
        "id": "TZi6DMXOUIAR",
        "outputId": "9b91fd63-4fed-48b9-a6e3-c8bb48721719"
      },
      "execution_count": 2,
      "outputs": [
        {
          "output_type": "stream",
          "name": "stdout",
          "text": [
            "[ 1  2  3  4  5  6  7  8  9 10 11 12 13 14 15 16 17 18 19 20]\n"
          ]
        }
      ]
    },
    {
      "cell_type": "code",
      "source": [
        "x.shape"
      ],
      "metadata": {
        "colab": {
          "base_uri": "https://localhost:8080/"
        },
        "id": "LBdxgzBYUk8X",
        "outputId": "7ac4bbfc-89b1-4a33-b8b3-32a5bea51e72"
      },
      "execution_count": 3,
      "outputs": [
        {
          "output_type": "execute_result",
          "data": {
            "text/plain": [
              "(20,)"
            ]
          },
          "metadata": {},
          "execution_count": 3
        }
      ]
    },
    {
      "cell_type": "markdown",
      "source": [
        "Convert x into a two-dimensional matrix whose first dimension is 1."
      ],
      "metadata": {
        "id": "yl8tDmhDU6RV"
      }
    },
    {
      "cell_type": "code",
      "source": [
        "x = x.reshape(1,20)"
      ],
      "metadata": {
        "id": "iiO_oZCrU1OW"
      },
      "execution_count": 4,
      "outputs": []
    },
    {
      "cell_type": "code",
      "source": [
        "x"
      ],
      "metadata": {
        "id": "-8yisFTIU-KH",
        "colab": {
          "base_uri": "https://localhost:8080/"
        },
        "outputId": "cc1ee468-3bac-4c75-8392-566fea6704d2"
      },
      "execution_count": 5,
      "outputs": [
        {
          "output_type": "execute_result",
          "data": {
            "text/plain": [
              "array([[ 1,  2,  3,  4,  5,  6,  7,  8,  9, 10, 11, 12, 13, 14, 15, 16,\n",
              "        17, 18, 19, 20]])"
            ]
          },
          "metadata": {},
          "execution_count": 5
        }
      ]
    },
    {
      "cell_type": "code",
      "source": [
        "x = x.reshape(5,4)"
      ],
      "metadata": {
        "id": "hdiUWOyaVJ7d"
      },
      "execution_count": 6,
      "outputs": []
    },
    {
      "cell_type": "code",
      "source": [
        "x"
      ],
      "metadata": {
        "id": "d32hVy38VTZN",
        "colab": {
          "base_uri": "https://localhost:8080/"
        },
        "outputId": "d4ec5f99-2762-429a-85a7-bd80385c2b43"
      },
      "execution_count": 7,
      "outputs": [
        {
          "output_type": "execute_result",
          "data": {
            "text/plain": [
              "array([[ 1,  2,  3,  4],\n",
              "       [ 5,  6,  7,  8],\n",
              "       [ 9, 10, 11, 12],\n",
              "       [13, 14, 15, 16],\n",
              "       [17, 18, 19, 20]])"
            ]
          },
          "metadata": {},
          "execution_count": 7
        }
      ]
    },
    {
      "cell_type": "markdown",
      "source": [
        "#### 2.3 Implementing Transposition"
      ],
      "metadata": {
        "id": "ejKdJX-4VZB0"
      }
    },
    {
      "cell_type": "markdown",
      "source": [
        "Vector and matrix transposition is to exchange the row and column order, while that of the tensor in three dimensions and above requires you to specify the dimension for transposition."
      ],
      "metadata": {
        "id": "xzHDPgOYVhcn"
      }
    },
    {
      "cell_type": "code",
      "source": [
        "A = np.arange(25).reshape(5,5)\n",
        "A"
      ],
      "metadata": {
        "id": "F913d1w3VUal",
        "colab": {
          "base_uri": "https://localhost:8080/"
        },
        "outputId": "a85696d1-661e-43b0-f41a-7557e4b74e82"
      },
      "execution_count": 8,
      "outputs": [
        {
          "output_type": "execute_result",
          "data": {
            "text/plain": [
              "array([[ 0,  1,  2,  3,  4],\n",
              "       [ 5,  6,  7,  8,  9],\n",
              "       [10, 11, 12, 13, 14],\n",
              "       [15, 16, 17, 18, 19],\n",
              "       [20, 21, 22, 23, 24]])"
            ]
          },
          "metadata": {},
          "execution_count": 8
        }
      ]
    },
    {
      "cell_type": "code",
      "source": [
        "A.T"
      ],
      "metadata": {
        "id": "6CYYdYbtVn6d",
        "colab": {
          "base_uri": "https://localhost:8080/"
        },
        "outputId": "9ff5e0eb-495a-426a-cd1f-e094b636ae75"
      },
      "execution_count": 9,
      "outputs": [
        {
          "output_type": "execute_result",
          "data": {
            "text/plain": [
              "array([[ 0,  5, 10, 15, 20],\n",
              "       [ 1,  6, 11, 16, 21],\n",
              "       [ 2,  7, 12, 17, 22],\n",
              "       [ 3,  8, 13, 18, 23],\n",
              "       [ 4,  9, 14, 19, 24]])"
            ]
          },
          "metadata": {},
          "execution_count": 9
        }
      ]
    },
    {
      "cell_type": "markdown",
      "source": [
        "2.4 Implementing Matrix Multiplication"
      ],
      "metadata": {
        "id": "fKmE2blbVxyd"
      }
    },
    {
      "cell_type": "markdown",
      "source": [
        "Matrix multiplication: Two matrices are denoted as A and B respectively and only when the column quantity of matrix A is equal to the row quantity of matrix B can the two matrices be multiplied "
      ],
      "metadata": {
        "id": "gGjNxGIZVznr"
      }
    },
    {
      "cell_type": "code",
      "source": [
        "A = np.arange(1,9).reshape(4,2)\n",
        "B = np.arange(1,13).reshape(2,6)"
      ],
      "metadata": {
        "id": "AiQ7FH5hVtVU"
      },
      "execution_count": 10,
      "outputs": []
    },
    {
      "cell_type": "code",
      "source": [
        "A"
      ],
      "metadata": {
        "id": "TKNU0jdpV7rM",
        "colab": {
          "base_uri": "https://localhost:8080/"
        },
        "outputId": "8c3e0aec-2206-42da-fa3a-d4ebce663ca0"
      },
      "execution_count": 11,
      "outputs": [
        {
          "output_type": "execute_result",
          "data": {
            "text/plain": [
              "array([[1, 2],\n",
              "       [3, 4],\n",
              "       [5, 6],\n",
              "       [7, 8]])"
            ]
          },
          "metadata": {},
          "execution_count": 11
        }
      ]
    },
    {
      "cell_type": "code",
      "source": [
        "B"
      ],
      "metadata": {
        "id": "Jkv6UfvSWHrj",
        "colab": {
          "base_uri": "https://localhost:8080/"
        },
        "outputId": "ee480a5b-3b6b-4da9-c559-3413fd09bc23"
      },
      "execution_count": 12,
      "outputs": [
        {
          "output_type": "execute_result",
          "data": {
            "text/plain": [
              "array([[ 1,  2,  3,  4,  5,  6],\n",
              "       [ 7,  8,  9, 10, 11, 12]])"
            ]
          },
          "metadata": {},
          "execution_count": 12
        }
      ]
    },
    {
      "cell_type": "code",
      "source": [
        "np.matmul(A,B)"
      ],
      "metadata": {
        "id": "3CS8cMn4WH7r",
        "colab": {
          "base_uri": "https://localhost:8080/"
        },
        "outputId": "ec560ab9-9f8e-4883-874a-306029a4136a"
      },
      "execution_count": 13,
      "outputs": [
        {
          "output_type": "execute_result",
          "data": {
            "text/plain": [
              "array([[ 15,  18,  21,  24,  27,  30],\n",
              "       [ 31,  38,  45,  52,  59,  66],\n",
              "       [ 47,  58,  69,  80,  91, 102],\n",
              "       [ 63,  78,  93, 108, 123, 138]])"
            ]
          },
          "metadata": {},
          "execution_count": 13
        }
      ]
    },
    {
      "cell_type": "markdown",
      "source": [
        "#### 2.5 Matrix Operations"
      ],
      "metadata": {
        "id": "QrjyAKt-WYZN"
      }
    },
    {
      "cell_type": "markdown",
      "source": [
        "Element operations cover operations on matrices of the same shapes, such as multiplication, addition on corresponding elements, that is, performing addition, subtraction, multiplication, and division on corresponding elements in two matrices."
      ],
      "metadata": {
        "id": "DjeY-tJ-Wdft"
      }
    },
    {
      "cell_type": "code",
      "source": [
        "A = np.arange(6).reshape(3,2)"
      ],
      "metadata": {
        "id": "o1CPP7jHWLzz"
      },
      "execution_count": 14,
      "outputs": []
    },
    {
      "cell_type": "code",
      "source": [
        "A"
      ],
      "metadata": {
        "id": "SVba3gmTWhdz",
        "colab": {
          "base_uri": "https://localhost:8080/"
        },
        "outputId": "e97fd43a-5dcf-4691-cbbe-a00c7f5c08da"
      },
      "execution_count": 15,
      "outputs": [
        {
          "output_type": "execute_result",
          "data": {
            "text/plain": [
              "array([[0, 1],\n",
              "       [2, 3],\n",
              "       [4, 5]])"
            ]
          },
          "metadata": {},
          "execution_count": 15
        }
      ]
    },
    {
      "cell_type": "code",
      "source": [
        "A*A"
      ],
      "metadata": {
        "id": "V255UyHXWh3b",
        "colab": {
          "base_uri": "https://localhost:8080/"
        },
        "outputId": "cca0abfe-416f-44dc-b4a4-d0ff7587c75f"
      },
      "execution_count": 16,
      "outputs": [
        {
          "output_type": "execute_result",
          "data": {
            "text/plain": [
              "array([[ 0,  1],\n",
              "       [ 4,  9],\n",
              "       [16, 25]])"
            ]
          },
          "metadata": {},
          "execution_count": 16
        }
      ]
    },
    {
      "cell_type": "code",
      "source": [
        "A+A"
      ],
      "metadata": {
        "id": "O5eHob1wWinl",
        "colab": {
          "base_uri": "https://localhost:8080/"
        },
        "outputId": "81966e2d-378a-4c4e-f699-ca79e4042834"
      },
      "execution_count": 17,
      "outputs": [
        {
          "output_type": "execute_result",
          "data": {
            "text/plain": [
              "array([[ 0,  2],\n",
              "       [ 4,  6],\n",
              "       [ 8, 10]])"
            ]
          },
          "metadata": {},
          "execution_count": 17
        }
      ]
    },
    {
      "cell_type": "code",
      "source": [
        "A-A"
      ],
      "metadata": {
        "id": "HqSHKkVzWlTD",
        "colab": {
          "base_uri": "https://localhost:8080/"
        },
        "outputId": "079270d7-b3f1-40e4-b7ba-560955cef7bd"
      },
      "execution_count": 18,
      "outputs": [
        {
          "output_type": "execute_result",
          "data": {
            "text/plain": [
              "array([[0, 0],\n",
              "       [0, 0],\n",
              "       [0, 0]])"
            ]
          },
          "metadata": {},
          "execution_count": 18
        }
      ]
    },
    {
      "cell_type": "markdown",
      "source": [
        "2.6 Implementing an Invertible Matrix"
      ],
      "metadata": {
        "id": "QAB6vLqiWnwS"
      }
    },
    {
      "cell_type": "code",
      "source": [
        "A = np.arange(4).reshape(2,2)"
      ],
      "metadata": {
        "id": "en2paV0GWlwj"
      },
      "execution_count": 19,
      "outputs": []
    },
    {
      "cell_type": "code",
      "source": [
        "A"
      ],
      "metadata": {
        "id": "KZw4yGe2WtvD",
        "colab": {
          "base_uri": "https://localhost:8080/"
        },
        "outputId": "8cb38a76-ef77-4f38-f684-7a5daf61bbf0"
      },
      "execution_count": 20,
      "outputs": [
        {
          "output_type": "execute_result",
          "data": {
            "text/plain": [
              "array([[0, 1],\n",
              "       [2, 3]])"
            ]
          },
          "metadata": {},
          "execution_count": 20
        }
      ]
    },
    {
      "cell_type": "code",
      "source": [
        "np.linalg.inv(A)"
      ],
      "metadata": {
        "id": "bD7kGhEyWuDb",
        "colab": {
          "base_uri": "https://localhost:8080/"
        },
        "outputId": "0c5f3d03-3f95-4121-f8d7-840388e49c95"
      },
      "execution_count": 21,
      "outputs": [
        {
          "output_type": "execute_result",
          "data": {
            "text/plain": [
              "array([[-1.5,  0.5],\n",
              "       [ 1. ,  0. ]])"
            ]
          },
          "metadata": {},
          "execution_count": 21
        }
      ]
    },
    {
      "cell_type": "markdown",
      "source": [
        "2.7 Eigenvalues and Eigenvectors"
      ],
      "metadata": {
        "id": "ow1AkMZKX8uK"
      }
    },
    {
      "cell_type": "markdown",
      "source": [
        "Compute the eigenvalue and eigenvector of a matrix and visualize them."
      ],
      "metadata": {
        "id": "JYO9TgqdYCAF"
      }
    },
    {
      "cell_type": "code",
      "source": [
        "from scipy.linalg import eig\n",
        "import numpy as np\n",
        "import matplotlib.pyplot as plt"
      ],
      "metadata": {
        "id": "a3fefpUEXIpy"
      },
      "execution_count": 22,
      "outputs": []
    },
    {
      "cell_type": "code",
      "source": [
        "A =[[1,2],[2,1]]\n",
        "evals, evecs = eig(A)\n",
        "evecs = evecs[:,0],evecs[:,1]\n",
        "fig,ax = plt.subplots()\n",
        "for spine in ['left','bottom']:\n",
        "  ax.spines[spine].set_position('zero')\n",
        "ax.grid(alpha=0.4)"
      ],
      "metadata": {
        "id": "RYQiSI4PYfyZ",
        "colab": {
          "base_uri": "https://localhost:8080/",
          "height": 269
        },
        "outputId": "bd205e70-1232-4693-ea48-8d85f68ca081"
      },
      "execution_count": 23,
      "outputs": [
        {
          "output_type": "display_data",
          "data": {
            "image/png": "[encoded data removed]",
            "text/plain": [
              "<Figure size 432x288 with 1 Axes>"
            ]
          },
          "metadata": {
            "needs_background": "light"
          }
        }
      ]
    },
    {
      "cell_type": "markdown",
      "source": [
        "Draw the eigenvector. annotate refers to the action pointing an arrow to a place and then adding notes to the place. s indicates the input content, xy indicates the direction the arrow points to, xytext indicates the location of the text; arrowprops uses arrowstyle to indicate the style or type of the arrow."
      ],
      "metadata": {
        "id": "jJ4o1MsGhVF3"
      }
    },
    {
      "cell_type": "code",
      "source": [
        "xmin, xmax = -3, 3\n",
        "ymin, ymax = -3, 3\n",
        "ax.set(xlim=(xmin, xmax), ylim=(ymin, ymax))\n",
        "for v in evecs:\n",
        "    ax.annotate(s=\"\", xy=v, xytext=(0, 0),\n",
        "                arrowprops=dict(facecolor='blue',\n",
        "                shrink=0,\n",
        "                alpha=0.6,\n",
        "                width=0.5))\n"
      ],
      "metadata": {
        "id": "t7Wu-h1YZIs-"
      },
      "execution_count": 25,
      "outputs": []
    },
    {
      "cell_type": "code",
      "source": [
        "x = np.linspace(xmin, xmax, 3)# Return numbers with even intervals within the specified interval.\n",
        "for v in evecs:\n",
        "    a = v[1] / v[0] # Unit vector in the eigenvector direction\n",
        "    ax.plot (x, a * x,'r-', lw=0.4) # lw indicates the line thickness.\n",
        "plt.show()  \n"
      ],
      "metadata": {
        "id": "YIRQ1_f3h4sU"
      },
      "execution_count": 32,
      "outputs": []
    },
    {
      "cell_type": "code",
      "source": [
        "fig.savefig('my_figure.png')"
      ],
      "metadata": {
        "id": "157EA33MjgUF"
      },
      "execution_count": 33,
      "outputs": []
    },
    {
      "cell_type": "code",
      "source": [
        "from IPython.display import Image\n",
        "Image('my_figure.png')"
      ],
      "metadata": {
        "colab": {
          "base_uri": "https://localhost:8080/",
          "height": 417
        },
        "id": "JC4yZPX8laHk",
        "outputId": "65c1b13a-4f58-471a-b88f-4391553bbd7a"
      },
      "execution_count": 34,
      "outputs": [
        {
          "output_type": "execute_result",
          "data": {
            "image/png": "[encoded data removed]",
            "text/plain": [
              "<IPython.core.display.Image object>"
            ]
          },
          "metadata": {},
          "execution_count": 34
        }
      ]
    },
    {
      "cell_type": "markdown",
      "source": [
        "Notes: The normal vector of the blue arrow is an eigenvector, and the space formed by two red lines is an eigenspace."
      ],
      "metadata": {
        "id": "S11tEaHtmu3Q"
      }
    },
    {
      "cell_type": "markdown",
      "source": [
        "#### 2.8 Computing the Determinant"
      ],
      "metadata": {
        "id": "IZuoQ4G0zsUf"
      }
    },
    {
      "cell_type": "markdown",
      "source": [
        "This section describes how to compute the determinant of a matrix."
      ],
      "metadata": {
        "id": "ZaklysbszvFv"
      }
    },
    {
      "cell_type": "code",
      "source": [
        "E = [[1, 2, 3],\n",
        "      [4, 5, 6],\n",
        "      [7, 8, 9]]\n",
        "np.linalg.det(E)"
      ],
      "metadata": {
        "colab": {
          "base_uri": "https://localhost:8080/"
        },
        "id": "ln4gONqszvWD",
        "outputId": "dc6199dc-f3bb-4eec-bb86-8e02bd73c66a"
      },
      "execution_count": 38,
      "outputs": [
        {
          "output_type": "execute_result",
          "data": {
            "text/plain": [
              "0.0"
            ]
          },
          "metadata": {},
          "execution_count": 38
        }
      ]
    },
    {
      "cell_type": "markdown",
      "source": [
        "2.9 Implementing the Singular Value Decomposition"
      ],
      "metadata": {
        "id": "yUOxLe7c0AIA"
      }
    },
    {
      "cell_type": "markdown",
      "source": [
        "We can classify articles according to their titles using the singular value decomposition."
      ],
      "metadata": {
        "id": "O1wVylDQ0DMh"
      }
    },
    {
      "cell_type": "code",
      "source": [
        "import numpy as np\n",
        "import matplotlib.pyplot as plt"
      ],
      "metadata": {
        "id": "xgoLY9WGzxJD"
      },
      "execution_count": 39,
      "outputs": []
    },
    {
      "cell_type": "code",
      "source": [
        "words = [\"books\",\"dad\",\"stock\",\"value\",\"singular\",\"estate\",\"decomposition\"]"
      ],
      "metadata": {
        "id": "Z-PmgJYkz-20"
      },
      "execution_count": 40,
      "outputs": []
    },
    {
      "cell_type": "markdown",
      "source": [
        "Assume that there are eight titles and seven keywords. Record the number of times each keyword appears in each title, and obtain the matrix X. In the matrix X, each row indicates a title, each column indicates a keyword, and each element in the matrix indicates the number of times of a title appears in a keyword."
      ],
      "metadata": {
        "id": "kDnhZZc70fpG"
      }
    },
    {
      "cell_type": "code",
      "source": [
        "X=np.array([[0,2,1,0,0,0,0],[2,0,0,1,0,1,0],[1,0,0,0,0,0,1],[0,0,1,0,0,0,0],[0,1,0,0,0,0,0],[0,0,0,1,1,0,1],[0,1,0,0,1,0,0],[0,0,0,0,1,1,1]])\n",
        "U,s,Vh=np.linalg.svd(X)"
      ],
      "metadata": {
        "id": "OO17ugNF0F2j"
      },
      "execution_count": 42,
      "outputs": []
    },
    {
      "cell_type": "code",
      "source": [
        "print(\"U=\",U)"
      ],
      "metadata": {
        "colab": {
          "base_uri": "https://localhost:8080/"
        },
        "id": "SWvaTESO0OpT",
        "outputId": "4f930408-a11a-4c7c-b880-abf4a50945bf"
      },
      "execution_count": 43,
      "outputs": [
        {
          "output_type": "stream",
          "name": "stdout",
          "text": [
            "U= [[-1.87135757e-01 -7.93624528e-01  2.45011855e-01 -2.05404352e-01\n",
            "  -2.57278434e-15 -4.99600361e-16 -2.57394431e-01 -4.08248290e-01]\n",
            " [-6.92896814e-01  2.88368077e-01  5.67788037e-01  2.22142537e-01\n",
            "   2.70706957e-15  2.54000254e-01 -2.21623012e-02  0.00000000e+00]\n",
            " [-3.53233681e-01  1.22606651e-01  3.49203461e-02 -4.51735990e-01\n",
            "  -5.41413914e-15 -7.62000762e-01  2.72513448e-01  1.11022302e-16]\n",
            " [-2.61369658e-02 -1.33189110e-01  7.51079037e-02 -6.44727454e-01\n",
            "  -8.60422844e-15  5.08000508e-01  3.68146235e-01  4.08248290e-01]\n",
            " [-8.04993957e-02 -3.30217709e-01  8.49519758e-02  2.19661551e-01\n",
            "   2.99326088e-15 -2.54000254e-01 -3.12770333e-01  8.16496581e-01]\n",
            " [-3.95029694e-01  1.56123876e-02 -5.28290830e-01 -6.82340484e-02\n",
            "  -7.07106781e-01  1.27000127e-01 -2.09360158e-01 -2.77555756e-17]\n",
            " [-2.02089013e-01 -3.80395849e-01 -2.12899198e-01  4.80790894e-01\n",
            "   6.03971280e-15  5.55111512e-16  7.33466480e-01  8.32667268e-17]\n",
            " [-3.95029694e-01  1.56123876e-02 -5.28290830e-01 -6.82340484e-02\n",
            "   7.07106781e-01  1.27000127e-01 -2.09360158e-01 -2.77555756e-17]]\n"
          ]
        }
      ]
    },
    {
      "cell_type": "code",
      "source": [
        "s"
      ],
      "metadata": {
        "colab": {
          "base_uri": "https://localhost:8080/"
        },
        "id": "EPtpo_6X0RcT",
        "outputId": "c5222797-abeb-4b7c-dc26-b69693003894"
      },
      "execution_count": 44,
      "outputs": [
        {
          "output_type": "execute_result",
          "data": {
            "text/plain": [
              "array([2.85653844, 2.63792139, 2.06449303, 1.14829917, 1.        ,\n",
              "       1.        , 0.54848559])"
            ]
          },
          "metadata": {},
          "execution_count": 44
        }
      ]
    },
    {
      "cell_type": "code",
      "source": [
        "Vh"
      ],
      "metadata": {
        "colab": {
          "base_uri": "https://localhost:8080/"
        },
        "id": "ZAP1X9Sd0ZOv",
        "outputId": "fc23e26a-fab2-4c41-975e-ba71385a32e7"
      },
      "execution_count": 46,
      "outputs": [
        {
          "output_type": "execute_result",
          "data": {
            "text/plain": [
              "array([[-6.08788345e-01, -2.29949618e-01, -7.46612474e-02,\n",
              "        -3.80854846e-01, -3.47325416e-01, -3.80854846e-01,\n",
              "        -4.00237243e-01],\n",
              "       [ 2.65111314e-01, -8.71088358e-01, -3.51342402e-01,\n",
              "         1.15234846e-01, -1.32365989e-01,  1.15234846e-01,\n",
              "         5.83153945e-02],\n",
              "       [ 5.66965547e-01,  1.75382762e-01,  1.55059743e-01,\n",
              "         1.91316736e-02, -6.14911671e-01,  1.91316736e-02,\n",
              "        -4.94872736e-01],\n",
              "       [-6.48865369e-03,  2.52237176e-01, -7.40339999e-01,\n",
              "         1.34031699e-01,  2.99854608e-01,  1.34031699e-01,\n",
              "        -5.12239408e-01],\n",
              "       [ 0.00000000e+00,  3.83873092e-15, -1.10520600e-14,\n",
              "        -7.07106781e-01,  4.11911265e-15,  7.07106781e-01,\n",
              "        -7.08286339e-15],\n",
              "       [-2.54000254e-01, -2.54000254e-01,  5.08000508e-01,\n",
              "         3.81000381e-01,  2.54000254e-01,  3.81000381e-01,\n",
              "        -5.08000508e-01],\n",
              "       [ 4.16034348e-01, -1.71550021e-01,  2.01922906e-01,\n",
              "        -4.22112199e-01,  5.73845817e-01, -4.22112199e-01,\n",
              "        -2.66564648e-01]])"
            ]
          },
          "metadata": {},
          "execution_count": 46
        }
      ]
    },
    {
      "cell_type": "code",
      "source": [
        "plt.axis([-.8,0.2,-0.8,0.8])\n",
        "for i in range(len(words)):\n",
        "    plt.text(U[i,0],U[i,1],words[i])\n",
        "plt.show()\n"
      ],
      "metadata": {
        "colab": {
          "base_uri": "https://localhost:8080/",
          "height": 440
        },
        "id": "otfBVsew04Dp",
        "outputId": "ac2c365a-5d0d-44e8-c947-a0526eb1e324"
      },
      "execution_count": 52,
      "outputs": [
        {
          "output_type": "display_data",
          "data": {
            "image/png": "[encoded data removed]",
            "text/plain": [
              "<Figure size 640x480 with 1 Axes>"
            ]
          },
          "metadata": {}
        }
      ]
    },
    {
      "cell_type": "markdown",
      "source": [
        "2.10 Solving a System of Linear Equations\n",
        "Only the SciPy.linalg.solve function is used to solve a system of linear equations.\n",
        "Take the department monthly running cases in the matrix section in the PPT as an example. The system of linear equations is as follows:\n",
        "* 10x_1 + 8x_2 + 12x_3 = 20\n",
        "* 4x_1 + 4x_2 + 2x_3 = 8\n",
        "* 2x_1 - 4x_2- 2x_3 = -5\n",
        "\n",
        "\n"
      ],
      "metadata": {
        "id": "3bxLL_bj1RPc"
      }
    },
    {
      "cell_type": "code",
      "source": [
        "from scipy.linalg import solve\n",
        "a = np.array([[10, 8, 12], [4, 4, 2], [2, -4, -2]])\n",
        "b = np.array([10,8,-5])\n",
        "x = solve(a, b)\n",
        "print(x)"
      ],
      "metadata": {
        "colab": {
          "base_uri": "https://localhost:8080/"
        },
        "id": "9CVeOz1M05F6",
        "outputId": "89656442-ab40-405a-e94f-393de6f93e09"
      },
      "execution_count": 53,
      "outputs": [
        {
          "output_type": "stream",
          "name": "stdout",
          "text": [
            "[ 0.5     1.9375 -0.875 ]\n"
          ]
        }
      ]
    },
    {
      "cell_type": "code",
      "source": [
        ""
      ],
      "metadata": {
        "id": "gROP9Otq1aSh"
      },
      "execution_count": null,
      "outputs": []
    }
  ]
}