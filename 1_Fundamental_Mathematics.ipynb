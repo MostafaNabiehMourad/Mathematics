{
  "nbformat": 4,
  "nbformat_minor": 0,
  "metadata": {
    "colab": {
      "name": "1 - Fundamental Mathematics.ipynb",
      "provenance": [],
      "collapsed_sections": []
    },
    "kernelspec": {
      "name": "python3",
      "display_name": "Python 3"
    },
    "language_info": {
      "name": "python"
    }
  },
  "cells": [
    {
      "cell_type": "markdown",
      "source": [
        "#### 1- Implementing Basic Mathematical Functions"
      ],
      "metadata": {
        "id": "aNaHza25PoMt"
      }
    },
    {
      "cell_type": "code",
      "source": [
        "import math \n",
        "import numpy as np"
      ],
      "metadata": {
        "id": "yZiI6lrPPoBk"
      },
      "execution_count": null,
      "outputs": []
    },
    {
      "cell_type": "markdown",
      "source": [
        "#### 1.1 Implementing a ceil Function"
      ],
      "metadata": {
        "id": "-ZxkKmvqPzJ_"
      }
    },
    {
      "cell_type": "markdown",
      "source": [
        "The ceil(x) function returns the minimum integer greater than or equal to x. If x is an integer, x is returned."
      ],
      "metadata": {
        "id": "qk320nQKQKEB"
      }
    },
    {
      "cell_type": "code",
      "execution_count": null,
      "metadata": {
        "colab": {
          "base_uri": "https://localhost:8080/"
        },
        "id": "JClNX0X7OotT",
        "outputId": "361d8249-8909-4697-dde2-0eb94f8bbe34"
      },
      "outputs": [
        {
          "output_type": "execute_result",
          "data": {
            "text/plain": [
              "5"
            ]
          },
          "metadata": {},
          "execution_count": 2
        }
      ],
      "source": [
        "math.ceil(4.01)"
      ]
    },
    {
      "cell_type": "code",
      "source": [
        "math.ceil(4.99)"
      ],
      "metadata": {
        "colab": {
          "base_uri": "https://localhost:8080/"
        },
        "id": "3cAedBQPPKp8",
        "outputId": "e47758f1-0a78-4738-8b76-8f29fdf41fca"
      },
      "execution_count": null,
      "outputs": [
        {
          "output_type": "execute_result",
          "data": {
            "text/plain": [
              "5"
            ]
          },
          "metadata": {},
          "execution_count": 3
        }
      ]
    },
    {
      "cell_type": "markdown",
      "source": [
        " #### 1.2 Implementing a floor Function"
      ],
      "metadata": {
        "id": "x69YtOnCP97e"
      }
    },
    {
      "cell_type": "markdown",
      "source": [
        "The floor(x) function returns the maximum integer less than or equal to x. If x is an integer, x is returned."
      ],
      "metadata": {
        "id": "sdzg_cqgQHow"
      }
    },
    {
      "cell_type": "code",
      "source": [
        "math.floor(4.999)"
      ],
      "metadata": {
        "colab": {
          "base_uri": "https://localhost:8080/"
        },
        "id": "JSXZNZXhP60O",
        "outputId": "e7e1157d-04a9-4621-cc5a-85a1dd0d280e"
      },
      "execution_count": null,
      "outputs": [
        {
          "output_type": "execute_result",
          "data": {
            "text/plain": [
              "4"
            ]
          },
          "metadata": {},
          "execution_count": 4
        }
      ]
    },
    {
      "cell_type": "code",
      "source": [
        "math.floor(4.1)"
      ],
      "metadata": {
        "colab": {
          "base_uri": "https://localhost:8080/"
        },
        "id": "nFF7rUp-QDMW",
        "outputId": "8590757e-4d8d-4611-da92-7f6a12a816f0"
      },
      "execution_count": null,
      "outputs": [
        {
          "output_type": "execute_result",
          "data": {
            "text/plain": [
              "4"
            ]
          },
          "metadata": {},
          "execution_count": 5
        }
      ]
    },
    {
      "cell_type": "markdown",
      "source": [
        "#### 1.3 Implementing a cos Function"
      ],
      "metadata": {
        "id": "jTqXpb1TQNJj"
      }
    },
    {
      "cell_type": "markdown",
      "source": [
        "The cos(x) function returns the cosine of x. x should be a radian (for example, math.pi/4 indicates a radian, which is an angle of 45 degrees.)."
      ],
      "metadata": {
        "id": "rNjMb0d8QS7X"
      }
    },
    {
      "cell_type": "code",
      "source": [
        "math.cos(math.pi/4)"
      ],
      "metadata": {
        "colab": {
          "base_uri": "https://localhost:8080/"
        },
        "id": "IEuVtiNvQFMe",
        "outputId": "e88493e2-e115-4d31-cf15-5fcb34a3fe1c"
      },
      "execution_count": null,
      "outputs": [
        {
          "output_type": "execute_result",
          "data": {
            "text/plain": [
              "0.7071067811865476"
            ]
          },
          "metadata": {},
          "execution_count": 6
        }
      ]
    },
    {
      "cell_type": "code",
      "source": [
        "math.cos(math.pi/3)"
      ],
      "metadata": {
        "colab": {
          "base_uri": "https://localhost:8080/"
        },
        "id": "NYtjSq3KQcch",
        "outputId": "21375e2d-2f8d-4e0a-9c22-5196355e788d"
      },
      "execution_count": null,
      "outputs": [
        {
          "output_type": "execute_result",
          "data": {
            "text/plain": [
              "0.5000000000000001"
            ]
          },
          "metadata": {},
          "execution_count": 7
        }
      ]
    },
    {
      "cell_type": "markdown",
      "source": [
        "#### 1.4 Implementing a tan Function"
      ],
      "metadata": {
        "id": "psesIWjsQsZH"
      }
    },
    {
      "cell_type": "markdown",
      "source": [
        "The tan(x) function returns the tangent value of x (x is a radian)."
      ],
      "metadata": {
        "id": "xuNiFDWwQ0a9"
      }
    },
    {
      "cell_type": "code",
      "source": [
        "math.tan(math.pi/6)"
      ],
      "metadata": {
        "colab": {
          "base_uri": "https://localhost:8080/"
        },
        "id": "hazZawNPQp_V",
        "outputId": "2cc209a9-af24-4677-f8f0-5dd0ceb515cd"
      },
      "execution_count": null,
      "outputs": [
        {
          "output_type": "execute_result",
          "data": {
            "text/plain": [
              "0.5773502691896257"
            ]
          },
          "metadata": {},
          "execution_count": 8
        }
      ]
    },
    {
      "cell_type": "markdown",
      "source": [
        "#### 1.5 Implementing a degrees Function\n",
        "\n"
      ],
      "metadata": {
        "id": "qm8B0fSRQ8AP"
      }
    },
    {
      "cell_type": "markdown",
      "source": [
        "The degrees(x) function converts x from a radian to an angle."
      ],
      "metadata": {
        "id": "OmxPHCLFRAj_"
      }
    },
    {
      "cell_type": "code",
      "source": [
        "math.degrees(math.pi/4)"
      ],
      "metadata": {
        "colab": {
          "base_uri": "https://localhost:8080/"
        },
        "id": "2obvHuU4Q319",
        "outputId": "c5b259eb-38df-4d68-cc2a-ba8d0c44e3b3"
      },
      "execution_count": null,
      "outputs": [
        {
          "output_type": "execute_result",
          "data": {
            "text/plain": [
              "45.0"
            ]
          },
          "metadata": {},
          "execution_count": 9
        }
      ]
    },
    {
      "cell_type": "code",
      "source": [
        "math.degrees(math.pi)"
      ],
      "metadata": {
        "colab": {
          "base_uri": "https://localhost:8080/"
        },
        "id": "cyT4uRdTRITj",
        "outputId": "6a65b751-3aa5-4d76-ea45-195e5c616226"
      },
      "execution_count": null,
      "outputs": [
        {
          "output_type": "execute_result",
          "data": {
            "text/plain": [
              "180.0"
            ]
          },
          "metadata": {},
          "execution_count": 10
        }
      ]
    },
    {
      "cell_type": "markdown",
      "source": [
        "#### 1.6 Implementing an exp Function\n",
        "\n"
      ],
      "metadata": {
        "id": "aTFWiQh4RPZz"
      }
    },
    {
      "cell_type": "markdown",
      "source": [
        "The exp(x) function returns math.e, which is expressed as base 2.71828 raised to the x power.\n"
      ],
      "metadata": {
        "id": "HPKcSj9kRSlW"
      }
    },
    {
      "cell_type": "code",
      "source": [
        "math.exp(1)"
      ],
      "metadata": {
        "colab": {
          "base_uri": "https://localhost:8080/"
        },
        "id": "mz7lfZzdRTAi",
        "outputId": "d2b05024-7a3a-4227-cef6-82ed341269fa"
      },
      "execution_count": null,
      "outputs": [
        {
          "output_type": "execute_result",
          "data": {
            "text/plain": [
              "2.718281828459045"
            ]
          },
          "metadata": {},
          "execution_count": 11
        }
      ]
    },
    {
      "cell_type": "markdown",
      "source": [
        "#### 1.7 Implementing a fabs Function\n",
        "\n"
      ],
      "metadata": {
        "id": "UtvGM2KpRXFL"
      }
    },
    {
      "cell_type": "markdown",
      "source": [
        "The fabs(x) function returns the absolute value of x.\n",
        "The input is as follows:"
      ],
      "metadata": {
        "id": "BmChkZjPRcDg"
      }
    },
    {
      "cell_type": "code",
      "source": [
        "math.fabs(-.003)"
      ],
      "metadata": {
        "colab": {
          "base_uri": "https://localhost:8080/"
        },
        "id": "GXkQffSFRUIk",
        "outputId": "b431f9c5-fc40-46fd-c09a-ec8ce2c9dfb0"
      },
      "execution_count": null,
      "outputs": [
        {
          "output_type": "execute_result",
          "data": {
            "text/plain": [
              "0.003"
            ]
          },
          "metadata": {},
          "execution_count": 12
        }
      ]
    },
    {
      "cell_type": "code",
      "source": [
        "math.fabs(-3)"
      ],
      "metadata": {
        "colab": {
          "base_uri": "https://localhost:8080/"
        },
        "id": "pBcVCV92RfH7",
        "outputId": "f25a25d3-d18a-43eb-973c-707ab191d59f"
      },
      "execution_count": null,
      "outputs": [
        {
          "output_type": "execute_result",
          "data": {
            "text/plain": [
              "3.0"
            ]
          },
          "metadata": {},
          "execution_count": 13
        }
      ]
    },
    {
      "cell_type": "markdown",
      "source": [
        "#### 1.8 Implementing a factorial Function"
      ],
      "metadata": {
        "id": "zTGksL6qRkRI"
      }
    },
    {
      "cell_type": "markdown",
      "source": [
        "The factorial(x) function returns the factorial of x."
      ],
      "metadata": {
        "id": "_7fw9EQnRn7A"
      }
    },
    {
      "cell_type": "code",
      "source": [
        "math.factorial(3)"
      ],
      "metadata": {
        "colab": {
          "base_uri": "https://localhost:8080/"
        },
        "id": "zOWb37ClRggL",
        "outputId": "3ab503b9-d9d0-4770-e20c-9c0e898dc939"
      },
      "execution_count": null,
      "outputs": [
        {
          "output_type": "execute_result",
          "data": {
            "text/plain": [
              "6"
            ]
          },
          "metadata": {},
          "execution_count": 14
        }
      ]
    },
    {
      "cell_type": "markdown",
      "source": [
        "#### 1.9 Implementing a fsum Function\n"
      ],
      "metadata": {
        "id": "sk8jblBGRvDC"
      }
    },
    {
      "cell_type": "markdown",
      "source": [
        "The fsum(iterable) returns an accurate floating point sum of values in the iterable.\n"
      ],
      "metadata": {
        "id": "kVjtMnjXRxdh"
      }
    },
    {
      "cell_type": "code",
      "source": [
        "math.fsum([1,2,3,4,5.2])"
      ],
      "metadata": {
        "colab": {
          "base_uri": "https://localhost:8080/"
        },
        "id": "PySrzgX5RrLj",
        "outputId": "77f13260-834a-4090-aac3-cf713577a02e"
      },
      "execution_count": null,
      "outputs": [
        {
          "output_type": "execute_result",
          "data": {
            "text/plain": [
              "15.2"
            ]
          },
          "metadata": {},
          "execution_count": 15
        }
      ]
    },
    {
      "cell_type": "markdown",
      "source": [
        "#### 1.10 Implementing a fmod Function"
      ],
      "metadata": {
        "id": "sojjBVlrR9lk"
      }
    },
    {
      "cell_type": "markdown",
      "source": [
        "The fmod(x, y) function returns the floating-point remainder of x/y."
      ],
      "metadata": {
        "id": "J9Py9t3YSEpR"
      }
    },
    {
      "cell_type": "code",
      "source": [
        "math.fmod(20,3)"
      ],
      "metadata": {
        "colab": {
          "base_uri": "https://localhost:8080/"
        },
        "id": "yGSr82BvR0Ta",
        "outputId": "499f0685-951c-472f-9ac4-8f5804217646"
      },
      "execution_count": null,
      "outputs": [
        {
          "output_type": "execute_result",
          "data": {
            "text/plain": [
              "2.0"
            ]
          },
          "metadata": {},
          "execution_count": 16
        }
      ]
    },
    {
      "cell_type": "code",
      "source": [
        "20.0%3.0"
      ],
      "metadata": {
        "colab": {
          "base_uri": "https://localhost:8080/"
        },
        "id": "qRuYfwihSCTy",
        "outputId": "03420c4e-75ec-4f00-8dd5-d66487e20621"
      },
      "execution_count": null,
      "outputs": [
        {
          "output_type": "execute_result",
          "data": {
            "text/plain": [
              "2.0"
            ]
          },
          "metadata": {},
          "execution_count": 17
        }
      ]
    },
    {
      "cell_type": "code",
      "source": [
        "math.fmod(7,3)"
      ],
      "metadata": {
        "colab": {
          "base_uri": "https://localhost:8080/"
        },
        "id": "QXVugCAkSUgD",
        "outputId": "c33f66ec-f020-4592-c828-3751c50d250e"
      },
      "execution_count": null,
      "outputs": [
        {
          "output_type": "execute_result",
          "data": {
            "text/plain": [
              "1.0"
            ]
          },
          "metadata": {},
          "execution_count": 18
        }
      ]
    },
    {
      "cell_type": "code",
      "source": [
        "7%3.0"
      ],
      "metadata": {
        "colab": {
          "base_uri": "https://localhost:8080/"
        },
        "id": "KqY0GvqNSYWh",
        "outputId": "5bbe2353-7a6b-4b8c-cd60-b9a78cf11dc5"
      },
      "execution_count": null,
      "outputs": [
        {
          "output_type": "execute_result",
          "data": {
            "text/plain": [
              "1.0"
            ]
          },
          "metadata": {},
          "execution_count": 19
        }
      ]
    },
    {
      "cell_type": "markdown",
      "source": [
        "#### 1.11 Implementing a log Function\n"
      ],
      "metadata": {
        "id": "FKbd60iqSe6M"
      }
    },
    {
      "cell_type": "markdown",
      "source": [
        "The log([x, base]) function returns the natural logarithm of x according to the base value. By default, the base is set to e. The calculation formula is log(x)/log(base)."
      ],
      "metadata": {
        "id": "t7w_lgavSjye"
      }
    },
    {
      "cell_type": "code",
      "source": [
        "math.log(10)"
      ],
      "metadata": {
        "colab": {
          "base_uri": "https://localhost:8080/"
        },
        "id": "vJOrYze8Sa2p",
        "outputId": "46e6c840-9d5a-40b4-9b57-509b12448798"
      },
      "execution_count": null,
      "outputs": [
        {
          "output_type": "execute_result",
          "data": {
            "text/plain": [
              "2.302585092994046"
            ]
          },
          "metadata": {},
          "execution_count": 20
        }
      ]
    },
    {
      "cell_type": "markdown",
      "source": [
        "#### 1.12 Implementing a sqrt Function"
      ],
      "metadata": {
        "id": "PdFKEfkXS42x"
      }
    },
    {
      "cell_type": "markdown",
      "source": [
        "The sqrt(x) function returns the square root of x."
      ],
      "metadata": {
        "id": "TjZtaLxLS7aV"
      }
    },
    {
      "cell_type": "code",
      "source": [
        "math.sqrt(100)"
      ],
      "metadata": {
        "colab": {
          "base_uri": "https://localhost:8080/"
        },
        "id": "5Oy5NTu2Sxos",
        "outputId": "2ea8c8f4-52e8-4e31-9062-14d99ce01478"
      },
      "execution_count": null,
      "outputs": [
        {
          "output_type": "execute_result",
          "data": {
            "text/plain": [
              "10.0"
            ]
          },
          "metadata": {},
          "execution_count": 21
        }
      ]
    },
    {
      "cell_type": "markdown",
      "source": [
        "#### 1.13 Implementing a pi Function"
      ],
      "metadata": {
        "id": "YGGhxAFbTHl-"
      }
    },
    {
      "cell_type": "markdown",
      "source": [
        "pi is a mathematical constant and is defined as the ratio of a circle's circumference to its diameter."
      ],
      "metadata": {
        "id": "df0gDMH8TKwG"
      }
    },
    {
      "cell_type": "code",
      "source": [
        "math.pi"
      ],
      "metadata": {
        "colab": {
          "base_uri": "https://localhost:8080/"
        },
        "id": "vS2w4IKfS_5D",
        "outputId": "5ba36942-a860-408a-b204-0d83de4ffccc"
      },
      "execution_count": null,
      "outputs": [
        {
          "output_type": "execute_result",
          "data": {
            "text/plain": [
              "3.141592653589793"
            ]
          },
          "metadata": {},
          "execution_count": 22
        }
      ]
    },
    {
      "cell_type": "markdown",
      "source": [
        "#### 1.14 Implementing a pow Function\n"
      ],
      "metadata": {
        "id": "lNMyxfk2TN40"
      }
    },
    {
      "cell_type": "markdown",
      "source": [
        "The pow(x, y) function returns x raised to the power of y, namely, x**y.\n"
      ],
      "metadata": {
        "id": "W77ovSRfTRkT"
      }
    },
    {
      "cell_type": "code",
      "source": [
        "math.pow(3,4)"
      ],
      "metadata": {
        "colab": {
          "base_uri": "https://localhost:8080/"
        },
        "id": "2VImW2LwTEfY",
        "outputId": "5cffc5be-f5c8-4f90-8bbb-81b80a8cf0c3"
      },
      "execution_count": null,
      "outputs": [
        {
          "output_type": "execute_result",
          "data": {
            "text/plain": [
              "81.0"
            ]
          },
          "metadata": {},
          "execution_count": 23
        }
      ]
    },
    {
      "cell_type": "code",
      "source": [
        "3**4.0"
      ],
      "metadata": {
        "colab": {
          "base_uri": "https://localhost:8080/"
        },
        "id": "DKvhaJrJTTsx",
        "outputId": "baaf7608-af6c-4962-9fa2-f5cdc3d14065"
      },
      "execution_count": null,
      "outputs": [
        {
          "output_type": "execute_result",
          "data": {
            "text/plain": [
              "81.0"
            ]
          },
          "metadata": {},
          "execution_count": 24
        }
      ]
    },
    {
      "cell_type": "markdown",
      "source": [
        "#### 1.15 Implementing a trunc Function\n"
      ],
      "metadata": {
        "id": "7I6E6q_ETYll"
      }
    },
    {
      "cell_type": "markdown",
      "source": [
        "The trunc(x:Real) function returns the integer part of x.\n"
      ],
      "metadata": {
        "id": "k10PBMqvTbFl"
      }
    },
    {
      "cell_type": "code",
      "source": [
        "math.trunc(6.789)"
      ],
      "metadata": {
        "colab": {
          "base_uri": "https://localhost:8080/"
        },
        "id": "R0SA5vvRTUpw",
        "outputId": "3ddb62b9-0b4e-43b6-d264-fca0316f6756"
      },
      "execution_count": null,
      "outputs": [
        {
          "output_type": "execute_result",
          "data": {
            "text/plain": [
              "6"
            ]
          },
          "metadata": {},
          "execution_count": 25
        }
      ]
    },
    {
      "cell_type": "code",
      "source": [
        "math.trunc(10.554589)"
      ],
      "metadata": {
        "colab": {
          "base_uri": "https://localhost:8080/"
        },
        "id": "MwLconUlTfbn",
        "outputId": "497f2405-bb58-40bd-e8d1-66e82d3c027a"
      },
      "execution_count": null,
      "outputs": [
        {
          "output_type": "execute_result",
          "data": {
            "text/plain": [
              "10"
            ]
          },
          "metadata": {},
          "execution_count": 26
        }
      ]
    }
  ]
}